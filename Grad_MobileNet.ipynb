{
  "cells": [
    {
      "cell_type": "code",
      "execution_count": 49,
      "metadata": {
        "colab": {
          "base_uri": "https://localhost:8080/"
        },
        "id": "5LXTKdLCtJaY",
        "outputId": "d11813d6-359d-4560-9166-9a7c891fd16e"
      },
      "outputs": [
        {
          "output_type": "stream",
          "name": "stdout",
          "text": [
            "GPU is available\n",
            "TensorFlow version: 2.15.0\n"
          ]
        }
      ],
      "source": [
        "import tensorflow as tf\n",
        "\n",
        "# Check GPU availability\n",
        "print(\"GPU is\", \"available\" if tf.config.list_physical_devices(\"GPU\") else \"NOT AVAILABLE\")\n",
        "\n",
        "# Check TensorFlow version\n",
        "print(\"TensorFlow version:\", tf.__version__)"
      ]
    },
    {
      "cell_type": "code",
      "source": [
        "from google.colab import drive\n",
        "drive.mount('/content/drive')"
      ],
      "metadata": {
        "colab": {
          "base_uri": "https://localhost:8080/"
        },
        "id": "eLrpTLfJavZG",
        "outputId": "4eb7f7b8-d9a7-4467-d64d-5ec5d642be96"
      },
      "execution_count": 50,
      "outputs": [
        {
          "output_type": "stream",
          "name": "stdout",
          "text": [
            "Drive already mounted at /content/drive; to attempt to forcibly remount, call drive.mount(\"/content/drive\", force_remount=True).\n"
          ]
        }
      ]
    },
    {
      "cell_type": "code",
      "execution_count": 51,
      "metadata": {
        "id": "I0OrOvGl8__B"
      },
      "outputs": [],
      "source": [
        "import zipfile\n",
        "with zipfile.ZipFile('/content/drive/MyDrive/New_Dataset.zip', 'r') as zip_ref:\n",
        "    zip_ref.extractall()"
      ]
    },
    {
      "cell_type": "code",
      "execution_count": 52,
      "metadata": {
        "id": "oX_uy9scFblp"
      },
      "outputs": [],
      "source": [
        "import os\n",
        "import tensorflow as tf\n",
        "import pandas as pd\n",
        "import matplotlib.pyplot as plt\n",
        "from tensorflow.keras.preprocessing.image import load_img\n",
        "from tensorflow.keras.preprocessing.image import ImageDataGenerator\n",
        "from tensorflow.keras.applications.vgg16 import VGG16\n",
        "from tensorflow.keras.applications.mobilenet import MobileNet\n",
        "from tensorflow.keras.applications.vgg16 import preprocess_input\n",
        "from tensorflow.keras.models import Model\n",
        "from tensorflow.keras.layers import BatchNormalization, Dense, Dropout, GlobalAveragePooling2D\n",
        "from tensorflow.keras.callbacks import ReduceLROnPlateau, ModelCheckpoint\n",
        "from tensorflow.keras.optimizers import Adam"
      ]
    },
    {
      "cell_type": "code",
      "execution_count": 53,
      "metadata": {
        "id": "LTuTLw7qFbp-"
      },
      "outputs": [],
      "source": [
        "def Split_Folders(path):\n",
        "    train_data_path = path\n",
        "\n",
        "    filepaths =[]\n",
        "    labels = []\n",
        "\n",
        "    folds = os.listdir(train_data_path)\n",
        "\n",
        "    for fold in folds:\n",
        "        f_path = os.path.join(train_data_path , fold)\n",
        "        filelists = os.listdir(f_path)\n",
        "\n",
        "        for file in filelists:\n",
        "            filepaths.append(os.path.join(f_path , file))\n",
        "            labels.append(fold)\n",
        "\n",
        "    #Concat data paths with labels\n",
        "    labels = [path.replace('_tumor', '').title() for path in labels]\n",
        "    Fseries = pd.Series(filepaths , name = 'Path')\n",
        "    Lseries = pd.Series(labels , name = 'Label')\n",
        "    New_df = pd.concat([Fseries , Lseries] , axis = 1)\n",
        "    return New_df , filepaths , labels\n"
      ]
    },
    {
      "cell_type": "code",
      "execution_count": 54,
      "metadata": {
        "id": "45kHzPdsFbth"
      },
      "outputs": [],
      "source": [
        "Train_path ='/content/New_Dataset/Training'\n",
        "Test_path = '/content/New_Dataset/Testing'\n",
        "\n",
        "train_df , train_paths,train_labels = Split_Folders(Train_path)\n",
        "test_df , test_paths,test_labels = Split_Folders(Test_path)"
      ]
    },
    {
      "cell_type": "code",
      "execution_count": 55,
      "metadata": {
        "colab": {
          "base_uri": "https://localhost:8080/"
        },
        "id": "614MW59NFb_-",
        "outputId": "ac6305a2-ee09-4ba7-8687-edc327caab29"
      },
      "outputs": [
        {
          "output_type": "stream",
          "name": "stdout",
          "text": [
            "Classes = ['Glioma' 'Normal' 'Pituitary' 'Meningioma']\n"
          ]
        }
      ],
      "source": [
        "# 2 values in train_df and 1 in test_df have a un-defined tumor Class\n",
        "train_df = train_df[train_df['Label'] != 'Tumor']\n",
        "test_df = test_df[test_df['Label'] != 'Tumor']\n",
        "#Getting class types\n",
        "CLASS_TYPES = pd.unique(train_df['Label'])\n",
        "N_TYPES = len(CLASS_TYPES)\n",
        "print(\"Classes =\",CLASS_TYPES)"
      ]
    },
    {
      "cell_type": "code",
      "execution_count": 56,
      "metadata": {
        "id": "88UjiuI4GXtV"
      },
      "outputs": [],
      "source": [
        "# Mapping dictionary\n",
        "Dataset_classes = {'Normal': 0,\n",
        "                 'Glioma': 1,\n",
        "                 'Meningioma': 2,\n",
        "                 'Pituitary': 3\n",
        "}\n",
        "# Apply mapping to both DataFrames\n",
        "train_df['label_encoded'] = train_df['Label'].map(Dataset_classes)\n",
        "test_df['label_encoded'] = test_df['Label'].map(Dataset_classes)"
      ]
    },
    {
      "cell_type": "code",
      "execution_count": 57,
      "metadata": {
        "colab": {
          "base_uri": "https://localhost:8080/"
        },
        "id": "a4BwGrWJ0J4v",
        "outputId": "279dba9a-b069-4568-e9d6-44fb2cbee5f8"
      },
      "outputs": [
        {
          "output_type": "stream",
          "name": "stdout",
          "text": [
            "Found 19788 validated image filenames belonging to 4 classes.\n",
            "Found 4950 validated image filenames belonging to 4 classes.\n"
          ]
        }
      ],
      "source": [
        "# Reduced target size and batch size\n",
        "target_size = (224, 224)\n",
        "batch_size = 64\n",
        "\n",
        "# Data Generators for VGG16\n",
        "train_datagen = ImageDataGenerator(preprocessing_function=preprocess_input)\n",
        "test_datagen = ImageDataGenerator(preprocessing_function=preprocess_input)\n",
        "\n",
        "# Creating generators\n",
        "train_generator = train_datagen.flow_from_dataframe(\n",
        "    train_df,\n",
        "    directory=Train_path,\n",
        "    x_col='Path',\n",
        "    y_col='Label',\n",
        "    target_size=target_size,\n",
        "    class_mode='categorical',\n",
        "    batch_size=batch_size\n",
        ")\n",
        "\n",
        "test_generator = test_datagen.flow_from_dataframe(\n",
        "    test_df,\n",
        "    directory=Test_path,\n",
        "    x_col='Path',\n",
        "    y_col='Label',\n",
        "    target_size=target_size,\n",
        "    class_mode='categorical',\n",
        "    batch_size=batch_size\n",
        ")"
      ]
    },
    {
      "cell_type": "code",
      "execution_count": 58,
      "metadata": {
        "colab": {
          "base_uri": "https://localhost:8080/"
        },
        "id": "afa3wqZizuuT",
        "outputId": "fbc75610-89de-4aba-ac63-8533904e3364"
      },
      "outputs": [
        {
          "output_type": "stream",
          "name": "stdout",
          "text": [
            "Model: \"model_1\"\n",
            "_________________________________________________________________\n",
            " Layer (type)                Output Shape              Param #   \n",
            "=================================================================\n",
            " input_2 (InputLayer)        [(None, 224, 224, 3)]     0         \n",
            "                                                                 \n",
            " conv1 (Conv2D)              (None, 112, 112, 32)      864       \n",
            "                                                                 \n",
            " conv1_bn (BatchNormalizati  (None, 112, 112, 32)      128       \n",
            " on)                                                             \n",
            "                                                                 \n",
            " conv1_relu (ReLU)           (None, 112, 112, 32)      0         \n",
            "                                                                 \n",
            " conv_dw_1 (DepthwiseConv2D  (None, 112, 112, 32)      288       \n",
            " )                                                               \n",
            "                                                                 \n",
            " conv_dw_1_bn (BatchNormali  (None, 112, 112, 32)      128       \n",
            " zation)                                                         \n",
            "                                                                 \n",
            " conv_dw_1_relu (ReLU)       (None, 112, 112, 32)      0         \n",
            "                                                                 \n",
            " conv_pw_1 (Conv2D)          (None, 112, 112, 64)      2048      \n",
            "                                                                 \n",
            " conv_pw_1_bn (BatchNormali  (None, 112, 112, 64)      256       \n",
            " zation)                                                         \n",
            "                                                                 \n",
            " conv_pw_1_relu (ReLU)       (None, 112, 112, 64)      0         \n",
            "                                                                 \n",
            " conv_pad_2 (ZeroPadding2D)  (None, 113, 113, 64)      0         \n",
            "                                                                 \n",
            " conv_dw_2 (DepthwiseConv2D  (None, 56, 56, 64)        576       \n",
            " )                                                               \n",
            "                                                                 \n",
            " conv_dw_2_bn (BatchNormali  (None, 56, 56, 64)        256       \n",
            " zation)                                                         \n",
            "                                                                 \n",
            " conv_dw_2_relu (ReLU)       (None, 56, 56, 64)        0         \n",
            "                                                                 \n",
            " conv_pw_2 (Conv2D)          (None, 56, 56, 128)       8192      \n",
            "                                                                 \n",
            " conv_pw_2_bn (BatchNormali  (None, 56, 56, 128)       512       \n",
            " zation)                                                         \n",
            "                                                                 \n",
            " conv_pw_2_relu (ReLU)       (None, 56, 56, 128)       0         \n",
            "                                                                 \n",
            " conv_dw_3 (DepthwiseConv2D  (None, 56, 56, 128)       1152      \n",
            " )                                                               \n",
            "                                                                 \n",
            " conv_dw_3_bn (BatchNormali  (None, 56, 56, 128)       512       \n",
            " zation)                                                         \n",
            "                                                                 \n",
            " conv_dw_3_relu (ReLU)       (None, 56, 56, 128)       0         \n",
            "                                                                 \n",
            " conv_pw_3 (Conv2D)          (None, 56, 56, 128)       16384     \n",
            "                                                                 \n",
            " conv_pw_3_bn (BatchNormali  (None, 56, 56, 128)       512       \n",
            " zation)                                                         \n",
            "                                                                 \n",
            " conv_pw_3_relu (ReLU)       (None, 56, 56, 128)       0         \n",
            "                                                                 \n",
            " conv_pad_4 (ZeroPadding2D)  (None, 57, 57, 128)       0         \n",
            "                                                                 \n",
            " conv_dw_4 (DepthwiseConv2D  (None, 28, 28, 128)       1152      \n",
            " )                                                               \n",
            "                                                                 \n",
            " conv_dw_4_bn (BatchNormali  (None, 28, 28, 128)       512       \n",
            " zation)                                                         \n",
            "                                                                 \n",
            " conv_dw_4_relu (ReLU)       (None, 28, 28, 128)       0         \n",
            "                                                                 \n",
            " conv_pw_4 (Conv2D)          (None, 28, 28, 256)       32768     \n",
            "                                                                 \n",
            " conv_pw_4_bn (BatchNormali  (None, 28, 28, 256)       1024      \n",
            " zation)                                                         \n",
            "                                                                 \n",
            " conv_pw_4_relu (ReLU)       (None, 28, 28, 256)       0         \n",
            "                                                                 \n",
            " conv_dw_5 (DepthwiseConv2D  (None, 28, 28, 256)       2304      \n",
            " )                                                               \n",
            "                                                                 \n",
            " conv_dw_5_bn (BatchNormali  (None, 28, 28, 256)       1024      \n",
            " zation)                                                         \n",
            "                                                                 \n",
            " conv_dw_5_relu (ReLU)       (None, 28, 28, 256)       0         \n",
            "                                                                 \n",
            " conv_pw_5 (Conv2D)          (None, 28, 28, 256)       65536     \n",
            "                                                                 \n",
            " conv_pw_5_bn (BatchNormali  (None, 28, 28, 256)       1024      \n",
            " zation)                                                         \n",
            "                                                                 \n",
            " conv_pw_5_relu (ReLU)       (None, 28, 28, 256)       0         \n",
            "                                                                 \n",
            " conv_pad_6 (ZeroPadding2D)  (None, 29, 29, 256)       0         \n",
            "                                                                 \n",
            " conv_dw_6 (DepthwiseConv2D  (None, 14, 14, 256)       2304      \n",
            " )                                                               \n",
            "                                                                 \n",
            " conv_dw_6_bn (BatchNormali  (None, 14, 14, 256)       1024      \n",
            " zation)                                                         \n",
            "                                                                 \n",
            " conv_dw_6_relu (ReLU)       (None, 14, 14, 256)       0         \n",
            "                                                                 \n",
            " conv_pw_6 (Conv2D)          (None, 14, 14, 512)       131072    \n",
            "                                                                 \n",
            " conv_pw_6_bn (BatchNormali  (None, 14, 14, 512)       2048      \n",
            " zation)                                                         \n",
            "                                                                 \n",
            " conv_pw_6_relu (ReLU)       (None, 14, 14, 512)       0         \n",
            "                                                                 \n",
            " conv_dw_7 (DepthwiseConv2D  (None, 14, 14, 512)       4608      \n",
            " )                                                               \n",
            "                                                                 \n",
            " conv_dw_7_bn (BatchNormali  (None, 14, 14, 512)       2048      \n",
            " zation)                                                         \n",
            "                                                                 \n",
            " conv_dw_7_relu (ReLU)       (None, 14, 14, 512)       0         \n",
            "                                                                 \n",
            " conv_pw_7 (Conv2D)          (None, 14, 14, 512)       262144    \n",
            "                                                                 \n",
            " conv_pw_7_bn (BatchNormali  (None, 14, 14, 512)       2048      \n",
            " zation)                                                         \n",
            "                                                                 \n",
            " conv_pw_7_relu (ReLU)       (None, 14, 14, 512)       0         \n",
            "                                                                 \n",
            " conv_dw_8 (DepthwiseConv2D  (None, 14, 14, 512)       4608      \n",
            " )                                                               \n",
            "                                                                 \n",
            " conv_dw_8_bn (BatchNormali  (None, 14, 14, 512)       2048      \n",
            " zation)                                                         \n",
            "                                                                 \n",
            " conv_dw_8_relu (ReLU)       (None, 14, 14, 512)       0         \n",
            "                                                                 \n",
            " conv_pw_8 (Conv2D)          (None, 14, 14, 512)       262144    \n",
            "                                                                 \n",
            " conv_pw_8_bn (BatchNormali  (None, 14, 14, 512)       2048      \n",
            " zation)                                                         \n",
            "                                                                 \n",
            " conv_pw_8_relu (ReLU)       (None, 14, 14, 512)       0         \n",
            "                                                                 \n",
            " conv_dw_9 (DepthwiseConv2D  (None, 14, 14, 512)       4608      \n",
            " )                                                               \n",
            "                                                                 \n",
            " conv_dw_9_bn (BatchNormali  (None, 14, 14, 512)       2048      \n",
            " zation)                                                         \n",
            "                                                                 \n",
            " conv_dw_9_relu (ReLU)       (None, 14, 14, 512)       0         \n",
            "                                                                 \n",
            " conv_pw_9 (Conv2D)          (None, 14, 14, 512)       262144    \n",
            "                                                                 \n",
            " conv_pw_9_bn (BatchNormali  (None, 14, 14, 512)       2048      \n",
            " zation)                                                         \n",
            "                                                                 \n",
            " conv_pw_9_relu (ReLU)       (None, 14, 14, 512)       0         \n",
            "                                                                 \n",
            " conv_dw_10 (DepthwiseConv2  (None, 14, 14, 512)       4608      \n",
            " D)                                                              \n",
            "                                                                 \n",
            " conv_dw_10_bn (BatchNormal  (None, 14, 14, 512)       2048      \n",
            " ization)                                                        \n",
            "                                                                 \n",
            " conv_dw_10_relu (ReLU)      (None, 14, 14, 512)       0         \n",
            "                                                                 \n",
            " conv_pw_10 (Conv2D)         (None, 14, 14, 512)       262144    \n",
            "                                                                 \n",
            " conv_pw_10_bn (BatchNormal  (None, 14, 14, 512)       2048      \n",
            " ization)                                                        \n",
            "                                                                 \n",
            " conv_pw_10_relu (ReLU)      (None, 14, 14, 512)       0         \n",
            "                                                                 \n",
            " conv_dw_11 (DepthwiseConv2  (None, 14, 14, 512)       4608      \n",
            " D)                                                              \n",
            "                                                                 \n",
            " conv_dw_11_bn (BatchNormal  (None, 14, 14, 512)       2048      \n",
            " ization)                                                        \n",
            "                                                                 \n",
            " conv_dw_11_relu (ReLU)      (None, 14, 14, 512)       0         \n",
            "                                                                 \n",
            " conv_pw_11 (Conv2D)         (None, 14, 14, 512)       262144    \n",
            "                                                                 \n",
            " conv_pw_11_bn (BatchNormal  (None, 14, 14, 512)       2048      \n",
            " ization)                                                        \n",
            "                                                                 \n",
            " conv_pw_11_relu (ReLU)      (None, 14, 14, 512)       0         \n",
            "                                                                 \n",
            " conv_pad_12 (ZeroPadding2D  (None, 15, 15, 512)       0         \n",
            " )                                                               \n",
            "                                                                 \n",
            " conv_dw_12 (DepthwiseConv2  (None, 7, 7, 512)         4608      \n",
            " D)                                                              \n",
            "                                                                 \n",
            " conv_dw_12_bn (BatchNormal  (None, 7, 7, 512)         2048      \n",
            " ization)                                                        \n",
            "                                                                 \n",
            " conv_dw_12_relu (ReLU)      (None, 7, 7, 512)         0         \n",
            "                                                                 \n",
            " conv_pw_12 (Conv2D)         (None, 7, 7, 1024)        524288    \n",
            "                                                                 \n",
            " conv_pw_12_bn (BatchNormal  (None, 7, 7, 1024)        4096      \n",
            " ization)                                                        \n",
            "                                                                 \n",
            " conv_pw_12_relu (ReLU)      (None, 7, 7, 1024)        0         \n",
            "                                                                 \n",
            " conv_dw_13 (DepthwiseConv2  (None, 7, 7, 1024)        9216      \n",
            " D)                                                              \n",
            "                                                                 \n",
            " conv_dw_13_bn (BatchNormal  (None, 7, 7, 1024)        4096      \n",
            " ization)                                                        \n",
            "                                                                 \n",
            " conv_dw_13_relu (ReLU)      (None, 7, 7, 1024)        0         \n",
            "                                                                 \n",
            " conv_pw_13 (Conv2D)         (None, 7, 7, 1024)        1048576   \n",
            "                                                                 \n",
            " conv_pw_13_bn (BatchNormal  (None, 7, 7, 1024)        4096      \n",
            " ization)                                                        \n",
            "                                                                 \n",
            " conv_pw_13_relu (ReLU)      (None, 7, 7, 1024)        0         \n",
            "                                                                 \n",
            " global_average_pooling2d_1  (None, 1024)              0         \n",
            "  (GlobalAveragePooling2D)                                       \n",
            "                                                                 \n",
            " dense_3 (Dense)             (None, 1024)              1049600   \n",
            "                                                                 \n",
            " dropout_2 (Dropout)         (None, 1024)              0         \n",
            "                                                                 \n",
            " dense_4 (Dense)             (None, 512)               524800    \n",
            "                                                                 \n",
            " dropout_3 (Dropout)         (None, 512)               0         \n",
            "                                                                 \n",
            " dense_5 (Dense)             (None, 4)                 2052      \n",
            "                                                                 \n",
            "=================================================================\n",
            "Total params: 4805316 (18.33 MB)\n",
            "Trainable params: 1576452 (6.01 MB)\n",
            "Non-trainable params: 3228864 (12.32 MB)\n",
            "_________________________________________________________________\n"
          ]
        }
      ],
      "source": [
        "# MobileNet model\n",
        "mobilenet_base_model = MobileNet(include_top=False, weights='imagenet', input_shape=(224, 224, 3))\n",
        "mobilenet_base_model.trainable = False\n",
        "\n",
        "# Model definition\n",
        "inputs = mobilenet_base_model.input\n",
        "x = GlobalAveragePooling2D()(mobilenet_base_model.output)\n",
        "x = Dense(1024, activation='relu')(x)\n",
        "x = Dropout(0.45)(x)\n",
        "x = Dense(512, activation='relu')(x)\n",
        "x = Dropout(0.45)(x)\n",
        "outputs = Dense(4, activation='softmax')(x)\n",
        "mobilenet_model = Model(inputs=inputs, outputs=outputs)\n",
        "\n",
        "# Compile the model\n",
        "mobilenet_model.compile(optimizer=Adam(0.0001), loss='categorical_crossentropy', metrics=['accuracy'])\n",
        "\n",
        "mobilenet_model.summary()"
      ]
    },
    {
      "cell_type": "code",
      "execution_count": 59,
      "metadata": {
        "colab": {
          "base_uri": "https://localhost:8080/"
        },
        "id": "ZXpNCGOM0ahF",
        "outputId": "d983bb72-df8e-4211-87b1-adbacf7fd0de"
      },
      "outputs": [
        {
          "output_type": "stream",
          "name": "stdout",
          "text": [
            "Epoch 1/50\n",
            "310/310 [==============================] - ETA: 0s - loss: 0.9964 - accuracy: 0.5878"
          ]
        },
        {
          "output_type": "stream",
          "name": "stderr",
          "text": [
            "/usr/local/lib/python3.10/dist-packages/keras/src/engine/training.py:3103: UserWarning: You are saving your model as an HDF5 file via `model.save()`. This file format is considered legacy. We recommend using instead the native Keras format, e.g. `model.save('my_model.keras')`.\n",
            "  saving_api.save_model(\n"
          ]
        },
        {
          "output_type": "stream",
          "name": "stdout",
          "text": [
            "\b\b\b\b\b\b\b\b\b\b\b\b\b\b\b\b\b\b\b\b\b\b\b\b\b\b\b\b\b\b\b\b\b\b\b\b\b\b\b\b\b\b\b\b\b\b\b\b\b\b\b\b\b\b\b\b\b\b\b\b\b\b\b\b\b\b\b\b\b\b\b\b\b\b\b\b\b\b\b\b\b\b\b\b\r310/310 [==============================] - 83s 262ms/step - loss: 0.9964 - accuracy: 0.5878 - val_loss: 0.6588 - val_accuracy: 0.7576 - lr: 1.0000e-04\n",
            "Epoch 2/50\n",
            "310/310 [==============================] - 74s 237ms/step - loss: 0.6714 - accuracy: 0.7387 - val_loss: 0.5504 - val_accuracy: 0.7962 - lr: 1.0000e-04\n",
            "Epoch 3/50\n",
            "310/310 [==============================] - 80s 259ms/step - loss: 0.5718 - accuracy: 0.7808 - val_loss: 0.4906 - val_accuracy: 0.8180 - lr: 1.0000e-04\n",
            "Epoch 4/50\n",
            "310/310 [==============================] - 82s 265ms/step - loss: 0.5062 - accuracy: 0.8084 - val_loss: 0.4502 - val_accuracy: 0.8319 - lr: 1.0000e-04\n",
            "Epoch 5/50\n",
            "310/310 [==============================] - 77s 247ms/step - loss: 0.4576 - accuracy: 0.8278 - val_loss: 0.4168 - val_accuracy: 0.8438 - lr: 1.0000e-04\n",
            "Epoch 6/50\n",
            "310/310 [==============================] - 76s 245ms/step - loss: 0.4176 - accuracy: 0.8404 - val_loss: 0.3945 - val_accuracy: 0.8523 - lr: 1.0000e-04\n",
            "Epoch 7/50\n",
            "310/310 [==============================] - 78s 251ms/step - loss: 0.3824 - accuracy: 0.8531 - val_loss: 0.3724 - val_accuracy: 0.8616 - lr: 1.0000e-04\n",
            "Epoch 8/50\n",
            "310/310 [==============================] - 74s 239ms/step - loss: 0.3557 - accuracy: 0.8653 - val_loss: 0.3690 - val_accuracy: 0.8640 - lr: 1.0000e-04\n",
            "Epoch 9/50\n",
            "310/310 [==============================] - 78s 251ms/step - loss: 0.3324 - accuracy: 0.8735 - val_loss: 0.3566 - val_accuracy: 0.8675 - lr: 1.0000e-04\n",
            "Epoch 10/50\n",
            "310/310 [==============================] - 74s 240ms/step - loss: 0.3025 - accuracy: 0.8849 - val_loss: 0.3371 - val_accuracy: 0.8776 - lr: 1.0000e-04\n",
            "Epoch 11/50\n",
            "310/310 [==============================] - 79s 255ms/step - loss: 0.2858 - accuracy: 0.8924 - val_loss: 0.3265 - val_accuracy: 0.8855 - lr: 1.0000e-04\n",
            "Epoch 12/50\n",
            "310/310 [==============================] - 74s 240ms/step - loss: 0.2682 - accuracy: 0.8967 - val_loss: 0.3143 - val_accuracy: 0.8895 - lr: 1.0000e-04\n",
            "Epoch 13/50\n",
            "310/310 [==============================] - 77s 249ms/step - loss: 0.2429 - accuracy: 0.9081 - val_loss: 0.3354 - val_accuracy: 0.8790 - lr: 1.0000e-04\n",
            "Epoch 14/50\n",
            "310/310 [==============================] - 75s 241ms/step - loss: 0.2256 - accuracy: 0.9146 - val_loss: 0.2995 - val_accuracy: 0.8919 - lr: 1.0000e-04\n",
            "Epoch 15/50\n",
            "310/310 [==============================] - 77s 248ms/step - loss: 0.2111 - accuracy: 0.9197 - val_loss: 0.2983 - val_accuracy: 0.8939 - lr: 1.0000e-04\n",
            "Epoch 16/50\n",
            "310/310 [==============================] - 75s 242ms/step - loss: 0.1972 - accuracy: 0.9254 - val_loss: 0.2857 - val_accuracy: 0.8974 - lr: 1.0000e-04\n",
            "Epoch 17/50\n",
            "310/310 [==============================] - 84s 270ms/step - loss: 0.1861 - accuracy: 0.9300 - val_loss: 0.2918 - val_accuracy: 0.9012 - lr: 1.0000e-04\n",
            "Epoch 18/50\n",
            "310/310 [==============================] - 76s 246ms/step - loss: 0.1716 - accuracy: 0.9355 - val_loss: 0.2996 - val_accuracy: 0.8933 - lr: 1.0000e-04\n",
            "Epoch 19/50\n",
            "310/310 [==============================] - 77s 249ms/step - loss: 0.1635 - accuracy: 0.9400 - val_loss: 0.2764 - val_accuracy: 0.9022 - lr: 1.0000e-04\n",
            "Epoch 20/50\n",
            "310/310 [==============================] - 76s 244ms/step - loss: 0.1512 - accuracy: 0.9451 - val_loss: 0.2816 - val_accuracy: 0.9059 - lr: 1.0000e-04\n",
            "Epoch 21/50\n",
            "310/310 [==============================] - 77s 248ms/step - loss: 0.1452 - accuracy: 0.9463 - val_loss: 0.2898 - val_accuracy: 0.9069 - lr: 1.0000e-04\n",
            "Epoch 22/50\n",
            "310/310 [==============================] - 75s 242ms/step - loss: 0.1320 - accuracy: 0.9519 - val_loss: 0.2915 - val_accuracy: 0.9008 - lr: 1.0000e-04\n",
            "Epoch 23/50\n",
            "310/310 [==============================] - 76s 245ms/step - loss: 0.1216 - accuracy: 0.9544 - val_loss: 0.2720 - val_accuracy: 0.9119 - lr: 1.0000e-04\n",
            "Epoch 24/50\n",
            "310/310 [==============================] - 84s 271ms/step - loss: 0.1159 - accuracy: 0.9577 - val_loss: 0.2814 - val_accuracy: 0.9111 - lr: 1.0000e-04\n",
            "Epoch 25/50\n",
            "310/310 [==============================] - 78s 253ms/step - loss: 0.1107 - accuracy: 0.9599 - val_loss: 0.2736 - val_accuracy: 0.9154 - lr: 1.0000e-04\n",
            "Epoch 26/50\n",
            "310/310 [==============================] - 74s 240ms/step - loss: 0.1019 - accuracy: 0.9616 - val_loss: 0.3103 - val_accuracy: 0.9079 - lr: 1.0000e-04\n",
            "Epoch 27/50\n",
            "310/310 [==============================] - 78s 252ms/step - loss: 0.0959 - accuracy: 0.9632 - val_loss: 0.2751 - val_accuracy: 0.9141 - lr: 1.0000e-04\n",
            "Epoch 28/50\n",
            "310/310 [==============================] - ETA: 0s - loss: 0.0902 - accuracy: 0.9679\n",
            "Epoch 28: ReduceLROnPlateau reducing learning rate to 4.999999873689376e-05.\n",
            "310/310 [==============================] - 75s 242ms/step - loss: 0.0902 - accuracy: 0.9679 - val_loss: 0.2815 - val_accuracy: 0.9115 - lr: 1.0000e-04\n",
            "Epoch 29/50\n",
            "310/310 [==============================] - 79s 254ms/step - loss: 0.0668 - accuracy: 0.9769 - val_loss: 0.2828 - val_accuracy: 0.9186 - lr: 5.0000e-05\n",
            "Epoch 30/50\n",
            "310/310 [==============================] - 76s 245ms/step - loss: 0.0611 - accuracy: 0.9788 - val_loss: 0.2881 - val_accuracy: 0.9176 - lr: 5.0000e-05\n",
            "Epoch 31/50\n",
            "310/310 [==============================] - 77s 248ms/step - loss: 0.0577 - accuracy: 0.9788 - val_loss: 0.2936 - val_accuracy: 0.9152 - lr: 5.0000e-05\n",
            "Epoch 32/50\n",
            "310/310 [==============================] - 76s 244ms/step - loss: 0.0567 - accuracy: 0.9799 - val_loss: 0.2853 - val_accuracy: 0.9184 - lr: 5.0000e-05\n",
            "Epoch 33/50\n",
            "310/310 [==============================] - ETA: 0s - loss: 0.0510 - accuracy: 0.9829\n",
            "Epoch 33: ReduceLROnPlateau reducing learning rate to 2.499999936844688e-05.\n",
            "310/310 [==============================] - 78s 253ms/step - loss: 0.0510 - accuracy: 0.9829 - val_loss: 0.2974 - val_accuracy: 0.9180 - lr: 5.0000e-05\n",
            "Epoch 34/50\n",
            "310/310 [==============================] - 76s 247ms/step - loss: 0.0465 - accuracy: 0.9847 - val_loss: 0.2889 - val_accuracy: 0.9196 - lr: 2.5000e-05\n",
            "Epoch 35/50\n",
            "310/310 [==============================] - 79s 256ms/step - loss: 0.0424 - accuracy: 0.9863 - val_loss: 0.2870 - val_accuracy: 0.9208 - lr: 2.5000e-05\n",
            "Epoch 36/50\n",
            "310/310 [==============================] - 76s 246ms/step - loss: 0.0390 - accuracy: 0.9879 - val_loss: 0.2909 - val_accuracy: 0.9224 - lr: 2.5000e-05\n",
            "Epoch 37/50\n",
            "310/310 [==============================] - 79s 254ms/step - loss: 0.0370 - accuracy: 0.9888 - val_loss: 0.3002 - val_accuracy: 0.9204 - lr: 2.5000e-05\n",
            "Epoch 38/50\n",
            "310/310 [==============================] - ETA: 0s - loss: 0.0376 - accuracy: 0.9887\n",
            "Epoch 38: ReduceLROnPlateau reducing learning rate to 1.249999968422344e-05.\n",
            "310/310 [==============================] - 76s 246ms/step - loss: 0.0376 - accuracy: 0.9887 - val_loss: 0.3039 - val_accuracy: 0.9210 - lr: 2.5000e-05\n",
            "Epoch 39/50\n",
            "310/310 [==============================] - 80s 257ms/step - loss: 0.0321 - accuracy: 0.9897 - val_loss: 0.2931 - val_accuracy: 0.9238 - lr: 1.2500e-05\n",
            "Epoch 40/50\n",
            "310/310 [==============================] - 77s 248ms/step - loss: 0.0316 - accuracy: 0.9906 - val_loss: 0.2965 - val_accuracy: 0.9238 - lr: 1.2500e-05\n",
            "Epoch 41/50\n",
            "310/310 [==============================] - 78s 253ms/step - loss: 0.0282 - accuracy: 0.9919 - val_loss: 0.2937 - val_accuracy: 0.9226 - lr: 1.2500e-05\n",
            "Epoch 42/50\n",
            "310/310 [==============================] - 74s 238ms/step - loss: 0.0286 - accuracy: 0.9908 - val_loss: 0.2925 - val_accuracy: 0.9236 - lr: 1.2500e-05\n",
            "Epoch 43/50\n",
            "310/310 [==============================] - ETA: 0s - loss: 0.0275 - accuracy: 0.9919\n",
            "Epoch 43: ReduceLROnPlateau reducing learning rate to 6.24999984211172e-06.\n",
            "310/310 [==============================] - 79s 255ms/step - loss: 0.0275 - accuracy: 0.9919 - val_loss: 0.3046 - val_accuracy: 0.9248 - lr: 1.2500e-05\n",
            "Epoch 44/50\n",
            "310/310 [==============================] - 83s 267ms/step - loss: 0.0267 - accuracy: 0.9925 - val_loss: 0.2943 - val_accuracy: 0.9253 - lr: 6.2500e-06\n",
            "Epoch 45/50\n",
            "310/310 [==============================] - 78s 253ms/step - loss: 0.0254 - accuracy: 0.9922 - val_loss: 0.2951 - val_accuracy: 0.9248 - lr: 6.2500e-06\n",
            "Epoch 46/50\n",
            "310/310 [==============================] - 75s 242ms/step - loss: 0.0269 - accuracy: 0.9919 - val_loss: 0.2957 - val_accuracy: 0.9244 - lr: 6.2500e-06\n",
            "Epoch 47/50\n",
            "310/310 [==============================] - 77s 250ms/step - loss: 0.0255 - accuracy: 0.9924 - val_loss: 0.3028 - val_accuracy: 0.9251 - lr: 6.2500e-06\n",
            "Epoch 48/50\n",
            "310/310 [==============================] - ETA: 0s - loss: 0.0251 - accuracy: 0.9927\n",
            "Epoch 48: ReduceLROnPlateau reducing learning rate to 3.12499992105586e-06.\n",
            "310/310 [==============================] - 84s 272ms/step - loss: 0.0251 - accuracy: 0.9927 - val_loss: 0.3017 - val_accuracy: 0.9244 - lr: 6.2500e-06\n",
            "Epoch 49/50\n",
            "310/310 [==============================] - 79s 254ms/step - loss: 0.0242 - accuracy: 0.9931 - val_loss: 0.3002 - val_accuracy: 0.9244 - lr: 3.1250e-06\n",
            "Epoch 50/50\n",
            "310/310 [==============================] - 77s 249ms/step - loss: 0.0236 - accuracy: 0.9935 - val_loss: 0.3013 - val_accuracy: 0.9244 - lr: 3.1250e-06\n"
          ]
        }
      ],
      "source": [
        "\n",
        "# Callbacks\n",
        "model_rlr = ReduceLROnPlateau(monitor='val_loss', factor=0.5, patience=5, verbose=True)\n",
        "model_cp = ModelCheckpoint('best_weights.h5', save_best_only=True, monitor='val_accuracy')\n",
        "\n",
        "# Fit the model\n",
        "history = mobilenet_model.fit(train_generator, epochs=50, validation_data=test_generator, callbacks=[model_rlr, model_cp])"
      ]
    },
    {
      "cell_type": "code",
      "source": [
        "import numpy as np\n",
        "from sklearn.metrics import confusion_matrix, classification_report\n",
        "import tensorflow as tf\n",
        "\n",
        "# Function to generate a confusion matrix and classification report\n",
        "def generate_confusion_matrix(model, generator, steps, class_names):\n",
        "    # Initialize lists to hold true and predicted labels\n",
        "    true_labels = []\n",
        "    predicted_labels = []\n",
        "\n",
        "    # Iterate over the data in the generator\n",
        "    for _, batch in zip(range(steps), generator):\n",
        "        images, labels = batch\n",
        "        predictions = model.predict(images, verbose=0)\n",
        "        predicted_classes = np.argmax(predictions, axis=1)\n",
        "        true_classes = np.argmax(labels, axis=1)\n",
        "\n",
        "        true_labels.extend(true_classes)\n",
        "        predicted_labels.extend(predicted_classes)\n",
        "\n",
        "    # Calculate confusion matrix and classification report\n",
        "    cm = confusion_matrix(true_labels, predicted_labels)\n",
        "    class_report = classification_report(true_labels, predicted_labels, target_names=class_names)\n",
        "\n",
        "    print(\"Confusion Matrix:\\n\", cm)\n",
        "    print(\"Classification Report:\\n\", class_report)\n",
        "    return cm\n",
        "\n",
        "# Determine steps per epoch for test set\n",
        "steps_per_epoch_test = int(np.ceil(test_generator.samples / test_generator.batch_size))\n",
        "\n",
        "# Call the function after model training to evaluate on test set\n",
        "cm = generate_confusion_matrix(mobilenet_model, test_generator, steps_per_epoch_test, class_names=CLASS_TYPES)"
      ],
      "metadata": {
        "colab": {
          "base_uri": "https://localhost:8080/"
        },
        "id": "NTtCXuPMzi_S",
        "outputId": "c63aceb0-5dd6-43ba-e121-a7812e210dcc"
      },
      "execution_count": 60,
      "outputs": [
        {
          "output_type": "stream",
          "name": "stdout",
          "text": [
            "Confusion Matrix:\n",
            " [[1108  103   36   15]\n",
            " [  92 1114   25   48]\n",
            " [   5    9 1201   12]\n",
            " [   8   18    3 1153]]\n",
            "Classification Report:\n",
            "               precision    recall  f1-score   support\n",
            "\n",
            "      Glioma       0.91      0.88      0.90      1262\n",
            "      Normal       0.90      0.87      0.88      1279\n",
            "   Pituitary       0.95      0.98      0.96      1227\n",
            "  Meningioma       0.94      0.98      0.96      1182\n",
            "\n",
            "    accuracy                           0.92      4950\n",
            "   macro avg       0.92      0.93      0.92      4950\n",
            "weighted avg       0.92      0.92      0.92      4950\n",
            "\n"
          ]
        }
      ]
    },
    {
      "cell_type": "code",
      "source": [
        "def plot_confusion_matrix(cm, class_names):\n",
        "    plt.figure(figsize=(9, 9))\n",
        "    sns.heatmap(cm, annot=True, fmt=\"d\", cmap=plt.cm.Blues, cbar=False,\n",
        "                xticklabels=class_names, yticklabels=class_names)\n",
        "    plt.title(\"Confusion Matrix\")\n",
        "    plt.xlabel(\"Predicted Class\")\n",
        "    plt.ylabel(\"True Class\")\n",
        "    plt.show()"
      ],
      "metadata": {
        "id": "l4gRZLfw0FwX"
      },
      "execution_count": 61,
      "outputs": []
    },
    {
      "cell_type": "code",
      "source": [
        "plot_confusion_matrix(cm,Dataset_classes.keys())"
      ],
      "metadata": {
        "colab": {
          "base_uri": "https://localhost:8080/",
          "height": 795
        },
        "id": "HjR96WBY1WIq",
        "outputId": "e1dde51c-b598-4632-d2c8-291e70e87746"
      },
      "execution_count": 62,
      "outputs": [
        {
          "output_type": "display_data",
          "data": {
            "text/plain": [
              "<Figure size 900x900 with 1 Axes>"
            ],
            "image/png": "[encoded data removed]"
          },
          "metadata": {}
        }
      ]
    },
    {
      "cell_type": "code",
      "source": [
        "# Plot training and validation accuracy and loss\n",
        "plt.figure(figsize=(12, 6))\n",
        "plt.subplot(1, 2, 1)\n",
        "plt.plot(history.history['accuracy'], label='Train Accuracy')\n",
        "plt.plot(history.history['val_accuracy'], label='Validation Accuracy')\n",
        "plt.title('Model Accuracy')\n",
        "plt.xlabel('Epoch')\n",
        "plt.ylabel('Accuracy')\n",
        "plt.legend()\n",
        "\n",
        "plt.subplot(1, 2, 2)\n",
        "plt.plot(history.history['loss'], label='Train Loss')\n",
        "plt.plot(history.history['val_loss'], label='Validation Loss')\n",
        "plt.title('Model Loss')\n",
        "plt.xlabel('Epoch')\n",
        "plt.ylabel('Loss')\n",
        "plt.legend()\n",
        "\n",
        "\n",
        "plt.show()"
      ],
      "metadata": {
        "id": "DOS2XYISeDd6",
        "colab": {
          "base_uri": "https://localhost:8080/",
          "height": 482
        },
        "outputId": "429315c6-f651-43d8-dae1-2395694829d0"
      },
      "execution_count": 63,
      "outputs": [
        {
          "output_type": "display_data",
          "data": {
            "text/plain": [
              "<Figure size 1200x600 with 2 Axes>"
            ],
            "image/png": "[encoded data removed]"
          },
          "metadata": {}
        }
      ]
    },
    {
      "cell_type": "code",
      "source": [],
      "metadata": {
        "id": "5Yi83mWgeE0L"
      },
      "execution_count": 63,
      "outputs": []
    }
  ],
  "metadata": {
    "colab": {
      "provenance": [],
      "gpuType": "T4"
    },
    "kernelspec": {
      "display_name": "Python 3",
      "name": "python3"
    },
    "language_info": {
      "name": "python"
    },
    "accelerator": "GPU"
  },
  "nbformat": 4,
  "nbformat_minor": 0
}